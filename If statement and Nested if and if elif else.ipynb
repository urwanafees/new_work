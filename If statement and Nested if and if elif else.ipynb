{
 "cells": [
  {
   "cell_type": "markdown",
   "metadata": {},
   "source": [
    "# If statement"
   ]
  },
  {
   "cell_type": "code",
   "execution_count": 1,
   "metadata": {},
   "outputs": [],
   "source": [
    "a = 10\n",
    "b = 20"
   ]
  },
  {
   "cell_type": "code",
   "execution_count": 4,
   "metadata": {},
   "outputs": [
    {
     "name": "stdout",
     "output_type": "stream",
     "text": [
      "if is true\n",
      "if is true\n",
      "if is true\n",
      "if is true\n",
      "if is true\n"
     ]
    }
   ],
   "source": [
    "if a<b:\n",
    "    print(\"if is true\")\n",
    "    print(\"if is true\")\n",
    "    print(\"if is true\")\n",
    "    print(\"if is true\")\n",
    "    print(\"if is true\")"
   ]
  },
  {
   "cell_type": "code",
   "execution_count": 7,
   "metadata": {},
   "outputs": [
    {
     "name": "stdout",
     "output_type": "stream",
     "text": [
      "if is false\n",
      "if is false\n",
      "if is false\n"
     ]
    }
   ],
   "source": [
    "if a>b:\n",
    "    print(\"if is true\")\n",
    "    print(\"if is true\")\n",
    "    print(\"if is true\")\n",
    "    print(\"if is true\")\n",
    "    print(\"if is true\")\n",
    "else: \n",
    "    print(\"if is false\")\n",
    "    print(\"if is false\")\n",
    "    print(\"if is false\")"
   ]
  },
  {
   "cell_type": "code",
   "execution_count": 11,
   "metadata": {},
   "outputs": [
    {
     "name": "stdout",
     "output_type": "stream",
     "text": [
      "if is false\n",
      "if is false\n",
      "if is false\n"
     ]
    }
   ],
   "source": [
    "if a>b:\n",
    "    print(\"if is true\")\n",
    "    print(\"if is true\")\n",
    "    print(\"if is true\")\n",
    "else:\n",
    "    print(\"if is false\")\n",
    "    print(\"if is false\")\n",
    "    print(\"if is false\")"
   ]
  },
  {
   "cell_type": "code",
   "execution_count": 14,
   "metadata": {},
   "outputs": [
    {
     "name": "stdout",
     "output_type": "stream",
     "text": [
      "if block\n"
     ]
    }
   ],
   "source": [
    "if a<b:\n",
    "    print(\"if block\")\n",
    "else:\n",
    "    print(\"else block\")"
   ]
  },
  {
   "cell_type": "code",
   "execution_count": 3,
   "metadata": {},
   "outputs": [
    {
     "name": "stdout",
     "output_type": "stream",
     "text": [
      "enter the temperatue today: 23\n",
      "normal weather\n"
     ]
    }
   ],
   "source": [
    "temp =int(input(\"enter the temperatue today: \"))# type casting\n",
    "if temp>30:\n",
    "    print(\"its hot weather today\")\n",
    "else:\n",
    "    print(\"normal weather\")"
   ]
  },
  {
   "cell_type": "markdown",
   "metadata": {},
   "source": [
    "# Nested If's"
   ]
  },
  {
   "cell_type": "code",
   "execution_count": 4,
   "metadata": {},
   "outputs": [
    {
     "name": "stdout",
     "output_type": "stream",
     "text": [
      "do you have cnic?yes\n",
      "ander chaly jayen\n",
      "is name in list?yes\n",
      "please caste you vote\n"
     ]
    }
   ],
   "source": [
    "cnic = input(\"do you have cnic?\")\n",
    "if cnic=='yes':\n",
    "    print(\"ander chaly jayen\")\n",
    "    nameinlist = input(\"is name in list?\")\n",
    "    if nameinlist=='yes':\n",
    "        print(\"please caste you vote\")\n",
    "    else:\n",
    "        print(\"you cant caste vote\")\n",
    "else:\n",
    "    print(\"you cant caste vote\")"
   ]
  },
  {
   "cell_type": "code",
   "execution_count": 6,
   "metadata": {},
   "outputs": [
    {
     "name": "stdout",
     "output_type": "stream",
     "text": [
      "do you have cnic?no\n",
      "you cant caste vote\n"
     ]
    }
   ],
   "source": [
    "cnic = input(\"do you have cnic?\")\n",
    "if cnic=='yes':\n",
    "    print(\"ander chaly jayen\")\n",
    "    nameinlist = input(\"is name in list?\")\n",
    "    if nameinlist=='yes':\n",
    "        print(\"please caste you vote\")\n",
    "    else:\n",
    "        print(\"you cant caste vote\")\n",
    "else:\n",
    "    print(\"you cant caste vote\")"
   ]
  },
  {
   "cell_type": "code",
   "execution_count": 7,
   "metadata": {},
   "outputs": [
    {
     "name": "stdout",
     "output_type": "stream",
     "text": [
      "do you have cnic?yes\n",
      "ander chaly jayen\n",
      "is name in list?no\n",
      "you cant caste vote\n"
     ]
    }
   ],
   "source": [
    "cnic = input(\"do you have cnic?\")\n",
    "if cnic=='yes':\n",
    "    print(\"ander chaly jayen\")\n",
    "    nameinlist = input(\"is name in list?\")\n",
    "    if nameinlist=='yes':\n",
    "        print(\"please caste you vote\")\n",
    "    else:\n",
    "        print(\"you cant caste vote\")\n",
    "else:\n",
    "    print(\"you cant caste vote\")"
   ]
  },
  {
   "cell_type": "markdown",
   "metadata": {},
   "source": [
    "# if elif else"
   ]
  },
  {
   "cell_type": "code",
   "execution_count": 9,
   "metadata": {},
   "outputs": [
    {
     "name": "stdout",
     "output_type": "stream",
     "text": [
      "Enter your marks  :90\n",
      "your marks are 90 and your grade is A*\n"
     ]
    }
   ],
   "source": [
    "marks = int(input(\"Enter your marks  :\"))\n",
    "grade = \"\"\n",
    "if marks>=90:\n",
    "    grade = \"A*\"\n",
    "elif marks>=80:\n",
    "    grade = \"A\"\n",
    "elif marks>=70:\n",
    "    grade = \"B\"\n",
    "elif marks>=60:\n",
    "    grade = \"C\"\n",
    "elif marks>=50:\n",
    "    grade = \"D\"\n",
    "else:\n",
    "    Print(\"you are ungraded please try again\")\n",
    "print(f\"your marks are {marks} and your grade is {grade}\")"
   ]
  },
  {
   "cell_type": "code",
   "execution_count": 11,
   "metadata": {},
   "outputs": [
    {
     "name": "stdout",
     "output_type": "stream",
     "text": [
      "Enter your marks  :70\n",
      "your marks are 70 and your grade is B\n"
     ]
    }
   ],
   "source": [
    "marks = int(input(\"Enter your marks  :\"))\n",
    "grade = \"\"\n",
    "if marks>=90:\n",
    "    grade = \"A*\"\n",
    "elif marks>=80:\n",
    "    grade = \"A\"\n",
    "elif marks>=70:\n",
    "    grade = \"B\"\n",
    "elif marks>=60:\n",
    "    grade = \"C\"\n",
    "elif marks>=50:\n",
    "    grade = \"D\"\n",
    "else:\n",
    "    Print(\"you are ungraded please try again\")\n",
    "print(f\"your marks are {marks} and your grade is {grade}\")"
   ]
  },
  {
   "cell_type": "code",
   "execution_count": 16,
   "metadata": {},
   "outputs": [
    {
     "name": "stdout",
     "output_type": "stream",
     "text": [
      "Enter your marks  :45\n",
      "your marks are 45 and your grade is Ungraded\n"
     ]
    }
   ],
   "source": [
    "marks = int(input(\"Enter your marks  :\"))\n",
    "grade = \"\"\n",
    "if marks>=90:\n",
    "    grade = \"A*\"\n",
    "elif marks>=80:\n",
    "    grade = \"A\"\n",
    "elif marks>=70:\n",
    "    grade = \"B\"\n",
    "elif marks>=60:\n",
    "    grade = \"C\"\n",
    "elif marks>=50:\n",
    "    grade = \"D\"\n",
    "else:\n",
    "    grade = \"Ungraded\"\n",
    "\n",
    "print(f\"your marks are {marks} and your grade is {grade}\")"
   ]
  },
  {
   "cell_type": "code",
   "execution_count": 20,
   "metadata": {},
   "outputs": [
    {
     "name": "stdout",
     "output_type": "stream",
     "text": [
      "do you have cnic?yes\n",
      "is name in list?yes\n",
      "caste you vote\n"
     ]
    }
   ],
   "source": [
    "cnic = input(\"do you have cnic?\")\n",
    "nameinlist = input(\"is name in list?\")\n",
    "\n",
    "if (cnic=='yes' and nameinlist=='yes'):\n",
    "    print(\"caste you vote\")\n",
    "else: \n",
    "    print(\"you can not\")"
   ]
  },
  {
   "cell_type": "code",
   "execution_count": 23,
   "metadata": {},
   "outputs": [],
   "source": [
    "Ctrl forward slash\n",
    "\n",
    "# cnic = input(\"do you have cnic?\")\n",
    "# # this is a comment\n",
    "# nameinlist = input(\"is name in list?\")\n",
    "\n",
    "# if (cnic=='yes' and nameinlist=='yes'):\n",
    "#     print(\"caste you vote\")\n",
    "#    ''' nmmjjkjkk\n",
    "#     hjjjj'''\n",
    "# else: \n",
    "# #     print(\"you can not\""
   ]
  },
  {
   "cell_type": "markdown",
   "metadata": {},
   "source": [
    "# list"
   ]
  },
  {
   "cell_type": "code",
   "execution_count": 25,
   "metadata": {},
   "outputs": [
    {
     "ename": "SyntaxError",
     "evalue": "invalid syntax (<ipython-input-25-1ad92540b830>, line 2)",
     "output_type": "error",
     "traceback": [
      "\u001b[1;36m  File \u001b[1;32m\"<ipython-input-25-1ad92540b830>\"\u001b[1;36m, line \u001b[1;32m2\u001b[0m\n\u001b[1;33m    index        0         1       2\u001b[0m\n\u001b[1;37m                 ^\u001b[0m\n\u001b[1;31mSyntaxError\u001b[0m\u001b[1;31m:\u001b[0m invalid syntax\n"
     ]
    }
   ],
   "source": [
    "students =[\"marium\", \"Urwa\", \"Rija\"]\n",
    "index        0         1       2"
   ]
  },
  {
   "cell_type": "code",
   "execution_count": null,
   "metadata": {},
   "outputs": [],
   "source": []
  }
 ],
 "metadata": {
  "kernelspec": {
   "display_name": "Python 3",
   "language": "python",
   "name": "python3"
  },
  "language_info": {
   "codemirror_mode": {
    "name": "ipython",
    "version": 3
   },
   "file_extension": ".py",
   "mimetype": "text/x-python",
   "name": "python",
   "nbconvert_exporter": "python",
   "pygments_lexer": "ipython3",
   "version": "3.7.3"
  }
 },
 "nbformat": 4,
 "nbformat_minor": 2
}
